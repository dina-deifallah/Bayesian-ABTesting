{
 "cells": [
  {
   "cell_type": "code",
   "execution_count": 1,
   "id": "87811618",
   "metadata": {},
   "outputs": [],
   "source": [
    "import numpy as np\n",
    "import pandas as pd\n",
    "%matplotlib inline\n",
    "from IPython.core.pylabtools import figsize\n",
    "import matplotlib.pyplot as plt\n",
    "import scipy.stats as stats\n",
    "import pymc3 as pm"
   ]
  },
  {
   "cell_type": "markdown",
   "id": "4b425ec8",
   "metadata": {},
   "source": [
    "# Lab: Apply the Bayesian approach on a advertisement CTR A/B test using user click data (impressions)"
   ]
  },
  {
   "cell_type": "markdown",
   "id": "7170eb95",
   "metadata": {},
   "source": [
    "## 1. Objective"
   ]
  },
  {
   "cell_type": "markdown",
   "id": "52322549",
   "metadata": {},
   "source": [
    "- We will consider the same case study we discussed in class, where we are interested in running an A/B test for determining the best of two possible ads designs, ads A and B, running on the same marketing channel based on their Click Through Rate (CTR), wich is simply the number of clicks the ad gets out of the total number of impressions (views)\n",
    "\n",
    "\n",
    "- Rather than using the daily CTR data as we did in class, we will use the ad-click events data collected from the website directly\n",
    "\n",
    "\n",
    "- Our objetive is the same: Is Ad A better than B or vice versa ? If yes, by how much ?"
   ]
  },
  {
   "cell_type": "markdown",
   "id": "de9d6c33",
   "metadata": {},
   "source": [
    "## 2. Code - Fill in the blanks"
   ]
  },
  {
   "cell_type": "code",
   "execution_count": 2,
   "id": "a3bca902",
   "metadata": {},
   "outputs": [
    {
     "name": "stdout",
     "output_type": "stream",
     "text": [
      "observed CTR_A =  2.94\n",
      "observed CTR_B =  3.466666666666667\n"
     ]
    }
   ],
   "source": [
    "# We will synthesize the collected click events data here ourselves as follows:\n",
    "\n",
    "# we can drop the assumption that we have equal number of impressions during the 30 days the test was running\n",
    "\n",
    "CTR_A_true = 3.0 \n",
    "CTR_B_true = 3.5 # Let's make CTR_B 15% better, similar to what we did in class\n",
    "\n",
    "N_impressions_A = 5000\n",
    "N_impressions_B = 7500\n",
    "\n",
    "# we are using a Bernoulli RV here with prob('user clicks the Ad') = prob('1') = CTR/100\n",
    "p_A_true = CTR_A_true/100\n",
    "p_B_true = CTR_B_true/100\n",
    "\n",
    "data_user_A = stats.bernoulli.rvs(p_A_true, size=N_impressions_A)\n",
    "data_user_B = stats.bernoulli.rvs(p_B_true, size=N_impressions_B)\n",
    "\n",
    "print(\"observed CTR_A = \", np.sum(data_user_A)*100/N_impressions_A)\n",
    "print(\"observed CTR_B = \", np.sum(data_user_B)*100/N_impressions_B)"
   ]
  },
  {
   "cell_type": "markdown",
   "id": "8dba8cb5",
   "metadata": {},
   "source": [
    "### Step 1: Choose a likelihood distribution for the observed data → how can the data be generated ?"
   ]
  },
  {
   "cell_type": "code",
   "execution_count": 3,
   "id": "debe3e1b",
   "metadata": {},
   "outputs": [],
   "source": [
    "# since we know CTR or p is between 0 and 1 and we can assume we have no prior idea of the value, \n",
    "\n",
    "# we can use a uniform prior for both p_A and p_B\n",
    "\n",
    "with pm.Model() as ab_test:\n",
    "    p_A = pm.Uniform('p_A', lower=0, upper=1)\n",
    "    p_B = pm.Uniform('p_B', lower=0, upper=1)"
   ]
  },
  {
   "cell_type": "code",
   "execution_count": 4,
   "id": "6ecaab74",
   "metadata": {},
   "outputs": [],
   "source": [
    "# Define the deterministic delta function, which is the difference between both CTRs \n",
    "    \n",
    "with ab_test:    \n",
    "    delta = pm.Deterministic(\"delta\", p_B - p_A)"
   ]
  },
  {
   "cell_type": "code",
   "execution_count": 5,
   "id": "c2eb720f",
   "metadata": {},
   "outputs": [],
   "source": [
    "# what liklihood function does our data follow ? \n",
    "# since we are modeling binary data, the Bernoulli RV is the suitable choice\n",
    "\n",
    "with ab_test:       \n",
    "    obs_A = pm.Bernoulli(\"obs_A\", p_A, observed=data_user_A)\n",
    "    obs_B = pm.Bernoulli(\"obs_B\", p_B, observed=data_user_B)"
   ]
  },
  {
   "cell_type": "code",
   "execution_count": 6,
   "id": "e7644de1",
   "metadata": {},
   "outputs": [
    {
     "name": "stderr",
     "output_type": "stream",
     "text": [
      "Multiprocess sampling (4 chains in 4 jobs)\n",
      "CompoundStep\n",
      ">Metropolis: [p_B]\n",
      ">Metropolis: [p_A]\n"
     ]
    },
    {
     "data": {
      "text/html": [
       "\n",
       "    <div>\n",
       "        <style>\n",
       "            /* Turns off some styling */\n",
       "            progress {\n",
       "                /* gets rid of default border in Firefox and Opera. */\n",
       "                border: none;\n",
       "                /* Needs to be in here for Safari polyfill so background images work as expected. */\n",
       "                background-size: auto;\n",
       "            }\n",
       "            .progress-bar-interrupted, .progress-bar-interrupted::-webkit-progress-bar {\n",
       "                background: #F44336;\n",
       "            }\n",
       "        </style>\n",
       "      <progress value='84000' class='' max='84000' style='width:300px; height:20px; vertical-align: middle;'></progress>\n",
       "      100.00% [84000/84000 00:06<00:00 Sampling 4 chains, 0 divergences]\n",
       "    </div>\n",
       "    "
      ],
      "text/plain": [
       "<IPython.core.display.HTML object>"
      ]
     },
     "metadata": {},
     "output_type": "display_data"
    },
    {
     "name": "stderr",
     "output_type": "stream",
     "text": [
      "Sampling 4 chains for 1_000 tune and 20_000 draw iterations (4_000 + 80_000 draws total) took 19 seconds.\n",
      "The number of effective samples is smaller than 25% for some parameters.\n"
     ]
    }
   ],
   "source": [
    "# sample the posterior distributions\n",
    "\n",
    "with ab_test:\n",
    "    step = pm.Metropolis()\n",
    "    trace = pm.sample(20000, step=step, return_inferencedata=False)\n",
    "    usable_trace = trace[1000:]"
   ]
  },
  {
   "cell_type": "code",
   "execution_count": 7,
   "id": "fc95729c",
   "metadata": {},
   "outputs": [],
   "source": [
    "# extract samples of posterior distributions\n",
    "\n",
    "p_A_samples = usable_trace[\"p_A\"]\n",
    "p_B_samples = usable_trace[\"p_B\"]\n",
    "delta_samples = usable_trace[\"delta\"]"
   ]
  },
  {
   "cell_type": "code",
   "execution_count": 8,
   "id": "65f5e7fd",
   "metadata": {},
   "outputs": [
    {
     "data": {
      "image/png": "[encoded data removed]",
      "text/plain": [
       "<Figure size 1080x720 with 3 Axes>"
      ]
     },
     "metadata": {
      "needs_background": "light"
     },
     "output_type": "display_data"
    }
   ],
   "source": [
    "# plot the histograms of the posteriors\n",
    "\n",
    "figsize(15, 10)\n",
    "ax = plt.subplot(311)\n",
    "\n",
    "plt.xlim(0, .1)\n",
    "plt.hist(p_A_samples, histtype='stepfilled', bins=25, alpha=0.85,\n",
    "         label=\"posterior of $p_A$\", color=\"r\")\n",
    "plt.vlines(p_A_true, 0, 8000, linestyle=\"--\", label=\"true $p_A$ (unknown)\")\n",
    "plt.legend(loc=\"upper right\")\n",
    "plt.title(\"Posterior distributions of $p_A$, $p_B$, and delta\")\n",
    "\n",
    "ax = plt.subplot(312)\n",
    "\n",
    "plt.xlim(0, .1)\n",
    "plt.hist(p_B_samples, histtype='stepfilled', bins=25, alpha=0.85, label=\"posterior of $p_B$\", color=\"g\")\n",
    "plt.vlines(p_B_true, 0, 8000, linestyle=\"--\", label=\"true $p_B$ (unknown)\")\n",
    "plt.legend(loc=\"upper right\")\n",
    "\n",
    "ax = plt.subplot(313)\n",
    "plt.hist(delta_samples, histtype='stepfilled', bins=30, alpha=0.85, label=\"posterior of delta\", color=\"m\")\n",
    "plt.vlines(p_B_true - p_A_true, 0, 6000, linestyle=\"--\", label=\"true delta (unknown)\")\n",
    "plt.vlines(0, 0, 60, color=\"black\", alpha=0.2)\n",
    "plt.legend(loc=\"upper right\");"
   ]
  },
  {
   "cell_type": "code",
   "execution_count": 9,
   "id": "d4874e2c",
   "metadata": {},
   "outputs": [
    {
     "name": "stdout",
     "output_type": "stream",
     "text": [
      "Probability Ad B is WORSE than Ad A = 0.05218421052631579\n",
      "Probability Ad B is BETTER than Ad A = 0.9478157894736842\n",
      "Estimated Improvement of CTR of Ad B over Ad A = 0.5212265581711478\n"
     ]
    }
   ],
   "source": [
    "# count the number of posterior distribution samples of delta which are less than 0\n",
    "# this is equivalent to the area under the curve before 0\n",
    "# this in turn represents the probability that site A is worse than site B\n",
    "\n",
    "print(\"Probability Ad B is WORSE than Ad A = {}\".format(np.mean(delta_samples < 0)))\n",
    "    \n",
    "\n",
    "print(\"Probability Ad B is BETTER than Ad A = {}\".format(np.mean(delta_samples > 0)))\n",
    "    \n",
    "\n",
    "print(\"Estimated Improvement of CTR of Ad B over Ad A = {}\".format(np.mean(delta_samples)*100))"
   ]
  },
  {
   "cell_type": "markdown",
   "id": "224d5db8",
   "metadata": {},
   "source": [
    "## 3. Conclusions"
   ]
  },
  {
   "cell_type": "code",
   "execution_count": null,
   "id": "84c4af12",
   "metadata": {},
   "outputs": [],
   "source": [
    "..."
   ]
  }
 ],
 "metadata": {
  "kernelspec": {
   "display_name": "Python 3",
   "language": "python",
   "name": "python3"
  },
  "language_info": {
   "codemirror_mode": {
    "name": "ipython",
    "version": 3
   },
   "file_extension": ".py",
   "mimetype": "text/x-python",
   "name": "python",
   "nbconvert_exporter": "python",
   "pygments_lexer": "ipython3",
   "version": "3.8.8"
  }
 },
 "nbformat": 4,
 "nbformat_minor": 5
}
