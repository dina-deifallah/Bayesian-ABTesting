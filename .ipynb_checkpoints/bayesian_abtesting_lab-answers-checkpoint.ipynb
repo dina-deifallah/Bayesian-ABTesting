{
 "cells": [
  {
   "cell_type": "markdown",
   "id": "5eece3a4",
   "metadata": {},
   "source": [
    "# Objective"
   ]
  },
  {
   "cell_type": "markdown",
   "id": "ba2621e0",
   "metadata": {},
   "source": [
    "- We will consider the same case study we discussed in class, where we are interested in running an A/B test for determining the best of two possible ads designs, ads A and B, running on the same marketing channel based on their Click Through Rate (CTR), wich is simply the number of clicks the ad gets out of the total number of impressions (views)\n",
    "\n",
    "\n",
    "\n",
    "- Rather than using the daily CTR data as we did in class, we will use the ad-click events data collected from the website directly\n",
    "\n",
    "\n",
    "\n",
    "- Our objetive is the same: Is Ad A better than B or vice versa ? If yes, by how much ?"
   ]
  },
  {
   "cell_type": "code",
   "execution_count": 2,
   "id": "af9e1db7",
   "metadata": {},
   "outputs": [],
   "source": [
    "import numpy as np\n",
    "import pandas as pd\n",
    "%matplotlib inline\n",
    "from IPython.core.pylabtools import figsize\n",
    "import matplotlib.pyplot as plt\n",
    "import scipy.stats as stats\n",
    "import pymc3 as pm"
   ]
  },
  {
   "cell_type": "markdown",
   "id": "34fd3e6d",
   "metadata": {},
   "source": [
    "## 1. Data"
   ]
  },
  {
   "cell_type": "code",
   "execution_count": 4,
   "id": "4e19469b",
   "metadata": {},
   "outputs": [
    {
     "name": "stdout",
     "output_type": "stream",
     "text": [
      "observed CTR_A =  2.86\n",
      "observed CTR_B =  3.3733333333333335\n"
     ]
    }
   ],
   "source": [
    "# We will synthesize the collected click events data here ourselves as follows:\n",
    "\n",
    "# we can drop the assumption that we have equal number of impressions during the 30 days the test was running\n",
    "\n",
    "N_impressions_A = 5000\n",
    "N_impressions_B = 7500\n",
    "\n",
    "# we are using a Bernoulli RV here with prob('user clicks the Ad') = prob('1') = CTR/100\n",
    "p_A_true = CTR_A_true/100\n",
    "p_B_true = CTR_B_true/100\n",
    "\n",
    "data_user_A = stats.bernoulli.rvs(p_A_true, size=N_impressions_A)\n",
    "data_user_B = stats.bernoulli.rvs(p_B_true, size=N_impressions_B)\n",
    "\n",
    "print(\"observed CTR_A = \", np.sum(data_user_A)*100/N_impressions_A)\n",
    "print(\"observed CTR_B = \", np.sum(data_user_B)*100/N_impressions_B)"
   ]
  },
  {
   "cell_type": "markdown",
   "id": "f5b564c7",
   "metadata": {},
   "source": [
    "## 2. Analysis (Fill in the Blanks)"
   ]
  },
  {
   "cell_type": "markdown",
   "id": "4b780fc0",
   "metadata": {},
   "source": [
    "### Step 1: Choose a likelihood distribution for the observed data → how can the data be generated ?"
   ]
  },
  {
   "cell_type": "code",
   "execution_count": null,
   "id": "92dd5850",
   "metadata": {},
   "outputs": [],
   "source": [
    "# since we know CTR or p is between 0 and 1 and we can assume we have no prior idea of the value, \n",
    "\n",
    "# we can use a uniform prior for both p_A and p_B\n",
    "\n",
    "with pm.Model() as ab_test:\n",
    "    p_A = pm.Uniform('p_A', lower=..., upper=...)\n",
    "    p_B = pm.Uniform('p_B', lower=..., upper=...)"
   ]
  },
  {
   "cell_type": "code",
   "execution_count": null,
   "id": "6db051a2",
   "metadata": {},
   "outputs": [],
   "source": [
    "# Define the deterministic delta function, which is the difference between both CTRs \n",
    "    \n",
    "with ...:    \n",
    "    delta = pm.Deterministic(\"delta\", ...)\n"
   ]
  },
  {
   "cell_type": "code",
   "execution_count": null,
   "id": "1fbc7bd0",
   "metadata": {},
   "outputs": [],
   "source": [
    "# what liklihood function does our data follow ? \n",
    "# since we are modeling binary data, the Bernoulli RV is the suitable choice\n",
    "\n",
    "with ...:       \n",
    "    obs_A = pm.Bernoulli(\"obs_A\", ..., observed=...)\n",
    "    obs_B = pm.Bernoulli(\"obs_B\", ..., observed=...)"
   ]
  },
  {
   "cell_type": "code",
   "execution_count": null,
   "id": "2a4dd4a7",
   "metadata": {},
   "outputs": [],
   "source": [
    "# sample the posterior distributions\n",
    "\n",
    "with ...:\n",
    "    step = ...\n",
    "    trace = pm.sample(20000, step=..., return_inferencedata=False)\n",
    "    usable_trace = trace[1000:]"
   ]
  },
  {
   "cell_type": "code",
   "execution_count": null,
   "id": "74ec1b0f",
   "metadata": {},
   "outputs": [],
   "source": [
    "# extract samples of posterior distributions\n",
    "\n",
    "p_A_samples = ...\n",
    "p_B_samples = ...\n",
    "delta_samples = ..."
   ]
  },
  {
   "cell_type": "code",
   "execution_count": null,
   "id": "0eca00f9",
   "metadata": {},
   "outputs": [],
   "source": [
    "# plot the histograms of the posteriors\n",
    "\n",
    "figsize(15, 10)\n",
    "ax = plt.subplot(311)\n",
    "\n",
    "...\n",
    "...\n",
    "...\n",
    "..."
   ]
  },
  {
   "cell_type": "code",
   "execution_count": null,
   "id": "9258c813",
   "metadata": {},
   "outputs": [],
   "source": [
    "# count the number of posterior distribution samples of delta which are less than 0\n",
    "# this is equivalent to the area under the curve before 0\n",
    "# this in turn represents the probability that site A is worse than site B\n",
    "\n",
    "print(\"Probability Ad B is WORSE than Ad A = {}\".format(np.mean(... < 0)))\n",
    "    \n",
    "\n",
    "print(\"Probability Ad B is BETTER than Ad A = {}\".format(np.mean(... > 0)))\n",
    "    \n",
    "\n",
    "print(\"Estimated Improvement of CTR of Ad B over Ad A = {}\".format(np.mean(...)*100))"
   ]
  }
 ],
 "metadata": {
  "kernelspec": {
   "display_name": "Python 3",
   "language": "python",
   "name": "python3"
  },
  "language_info": {
   "codemirror_mode": {
    "name": "ipython",
    "version": 3
   },
   "file_extension": ".py",
   "mimetype": "text/x-python",
   "name": "python",
   "nbconvert_exporter": "python",
   "pygments_lexer": "ipython3",
   "version": "3.8.8"
  }
 },
 "nbformat": 4,
 "nbformat_minor": 5
}
